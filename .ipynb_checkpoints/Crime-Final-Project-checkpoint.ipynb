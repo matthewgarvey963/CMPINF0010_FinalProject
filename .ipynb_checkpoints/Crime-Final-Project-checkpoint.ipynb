{
 "cells": [
  {
   "cell_type": "code",
   "execution_count": null,
   "metadata": {},
   "outputs": [],
   "source": [
    "import pandas as pd\n",
    "%matplotlib\n",
    "\n",
    "data = pd.read_csv(\"public-safety.csv\", index_col=\"Neighborhood\")\n",
    "crime = data[['Part 1 Crime per 100 Persons (2010)', 'Part 2 Crime per 100 Persons (2010)']]\n",
    "\n",
    "crime['Total Crime per 100 Persons'] = crime.sum(axis=1)\n",
    "total = crime.drop(columns = ['Part 1 Crime per 100 Persons (2010)', 'Part 2 Crime per 100 Persons (2010)'])\n",
    "\n",
    "total.plot(kind='bar')"
   ]
  }
 ],
 "metadata": {
  "kernelspec": {
   "display_name": "Python 3",
   "language": "python",
   "name": "python3"
  },
  "language_info": {
   "codemirror_mode": {
    "name": "ipython",
    "version": 3
   },
   "file_extension": ".py",
   "mimetype": "text/x-python",
   "name": "python",
   "nbconvert_exporter": "python",
   "pygments_lexer": "ipython3",
   "version": "3.7.8"
  }
 },
 "nbformat": 4,
 "nbformat_minor": 4
}
